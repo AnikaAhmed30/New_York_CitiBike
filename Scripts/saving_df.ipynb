{
 "cells": [
  {
   "cell_type": "code",
   "execution_count": 1,
   "id": "7f50e1fb-c3fb-451f-841d-44deffb7d666",
   "metadata": {},
   "outputs": [],
   "source": [
    "import pandas as pd\n",
    "import numpy as np\n",
    "from plotly.subplots import make_subplots\n",
    "import plotly.graph_objects as go\n",
    "import matplotlib.pyplot as plt\n",
    "from datetime import datetime as dt"
   ]
  },
  {
   "cell_type": "code",
   "execution_count": null,
   "id": "3d046600-20e1-4722-b56e-785d71d5521e",
   "metadata": {},
   "outputs": [
    {
     "name": "stderr",
     "output_type": "stream",
     "text": [
      "C:\\Users\\anika\\AppData\\Local\\Temp\\ipykernel_5536\\3420840328.py:1: DtypeWarning: Columns (5,7) have mixed types. Specify dtype option on import or set low_memory=False.\n",
      "  df = pd.read_csv('CitiBike_with_weather.csv', index_col=0)\n"
     ]
    }
   ],
   "source": [
    "df = pd.read_csv('CitiBike_with_weather.csv', index_col=0)"
   ]
  },
  {
   "cell_type": "code",
   "execution_count": 25,
   "id": "c50afca2-f21a-4b45-abec-b3d5d88f7f22",
   "metadata": {},
   "outputs": [],
   "source": [
    "#columns for month and season\n",
    "df['date'] = pd.to_datetime(df['date'], format='%Y-%m-%d')\n",
    "df['month'] = df['date'].dt.month\n",
    "df['month'] = df['month'].astype('int')\n",
    "df['season'] = [\n",
    "    \"winter\" if (month == 12 or 1 <= month <= 4)\n",
    "    else \"spring\" if (4 < month <= 5)\n",
    "    else \"summer\" if (6 < month <= 9)\n",
    "    else \"fall\"\n",
    "    for month in df['month']]"
   ]
  },
  {
   "cell_type": "code",
   "execution_count": 26,
   "id": "5d1c45aa-0460-4ea2-939b-b52b1d7d1710",
   "metadata": {},
   "outputs": [],
   "source": [
    "# Create 'bike_rides_daily' by aggregating trips by date\n",
    "if 'bike_rides_daily' not in df.columns:\n",
    "    df['value'] = 1  # Temporary column for counting trips\n",
    "    df_bike_rides = df.groupby('date', as_index=False).agg({'value': 'sum'})\n",
    "    df_bike_rides = df_bike_rides.rename(columns={'value': 'bike_rides_daily'})\n",
    "    df = df.merge(df_bike_rides, on='date', how='left')\n",
    "    df = df.drop(columns=['value']) "
   ]
  },
  {
   "cell_type": "code",
   "execution_count": 27,
   "id": "d8b47781-46de-40bf-a210-aa651741cd77",
   "metadata": {},
   "outputs": [],
   "source": [
    "# Aggregate data for line chart to avoid MemoryError\n",
    "df_daily = df.groupby('date', as_index=False).agg({\n",
    "    'bike_rides_daily': 'mean', \n",
    "    'avgWeather': 'mean'})  "
   ]
  },
  {
   "cell_type": "code",
   "execution_count": 28,
   "id": "931a1f53-92ac-49f2-ae1e-975936916af3",
   "metadata": {},
   "outputs": [],
   "source": [
    "df_daily.to_csv(\"df_daily.csv\", index=False)"
   ]
  },
  {
   "cell_type": "code",
   "execution_count": null,
   "id": "ca7aab24-f04e-4d94-8020-28957d6de98e",
   "metadata": {},
   "outputs": [],
   "source": [
    "#Creating a sample \n",
    "df_sample = df.sample(frac=0.1, random_state=32)  # Adjust frac to reduce size\n",
    "df_sample.to_csv('path/to/your/working_folder/sample_data.csv', index=False)"
   ]
  }
 ],
 "metadata": {
  "kernelspec": {
   "display_name": "Python (New_York_CitiBike)",
   "language": "python",
   "name": "new_york_citibike"
  },
  "language_info": {
   "codemirror_mode": {
    "name": "ipython",
    "version": 3
   },
   "file_extension": ".py",
   "mimetype": "text/x-python",
   "name": "python",
   "nbconvert_exporter": "python",
   "pygments_lexer": "ipython3",
   "version": "3.10.18"
  }
 },
 "nbformat": 4,
 "nbformat_minor": 5
}
