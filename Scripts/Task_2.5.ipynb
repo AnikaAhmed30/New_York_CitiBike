{
 "cells": [
  {
   "cell_type": "code",
   "execution_count": 1,
   "id": "320aa175",
   "metadata": {},
   "outputs": [],
   "source": [
    "import pandas as pd\n",
    "from keplergl import KeplerGl\n",
    "import numpy as np"
   ]
  },
  {
   "cell_type": "code",
   "execution_count": 2,
   "id": "ac372005",
   "metadata": {},
   "outputs": [
    {
     "name": "stderr",
     "output_type": "stream",
     "text": [
      "C:\\Users\\anika\\AppData\\Local\\Temp\\ipykernel_14980\\2820563072.py:1: DtypeWarning: Columns (5,7) have mixed types. Specify dtype option on import or set low_memory=False.\n",
      "  df = pd.read_csv('CitiBike_with_weather.csv')\n"
     ]
    }
   ],
   "source": [
    "df = pd.read_csv('CitiBike_with_weather.csv')"
   ]
  },
  {
   "cell_type": "code",
   "execution_count": 3,
   "id": "4aca1055",
   "metadata": {},
   "outputs": [],
   "source": [
    "# Add a 'value' column for counting trips\n",
    "df['value'] = 1"
   ]
  },
  {
   "cell_type": "code",
   "execution_count": 4,
   "id": "706aa9cc",
   "metadata": {},
   "outputs": [],
   "source": [
    "# Aggregate trips by start and end stations\n",
    "df_group = df.groupby(['start_station_name', 'end_station_name'])['value'].count().reset_index()\n",
    "df_group.rename(columns={'value': 'trips'}, inplace=True)"
   ]
  },
  {
   "cell_type": "code",
   "execution_count": 8,
   "id": "e5acf145",
   "metadata": {},
   "outputs": [
    {
     "name": "stdout",
     "output_type": "stream",
     "text": [
      "29838806\n",
      "(29838806, 17)\n"
     ]
    }
   ],
   "source": [
    "# Verify the aggregation\n",
    "print(df_group['trips'].sum())  \n",
    "print(df.shape)"
   ]
  },
  {
   "cell_type": "code",
   "execution_count": 10,
   "id": "6028f9b0",
   "metadata": {},
   "outputs": [
    {
     "data": {
      "text/html": [
       "<div>\n",
       "<style scoped>\n",
       "    .dataframe tbody tr th:only-of-type {\n",
       "        vertical-align: middle;\n",
       "    }\n",
       "\n",
       "    .dataframe tbody tr th {\n",
       "        vertical-align: top;\n",
       "    }\n",
       "\n",
       "    .dataframe thead th {\n",
       "        text-align: right;\n",
       "    }\n",
       "</style>\n",
       "<table border=\"1\" class=\"dataframe\">\n",
       "  <thead>\n",
       "    <tr style=\"text-align: right;\">\n",
       "      <th></th>\n",
       "      <th>start_station_name</th>\n",
       "      <th>end_station_name</th>\n",
       "      <th>trips</th>\n",
       "    </tr>\n",
       "  </thead>\n",
       "  <tbody>\n",
       "    <tr>\n",
       "      <th>0</th>\n",
       "      <td>1 Ave &amp; E 110 St</td>\n",
       "      <td>1 Ave &amp; E 110 St</td>\n",
       "      <td>791</td>\n",
       "    </tr>\n",
       "    <tr>\n",
       "      <th>1</th>\n",
       "      <td>1 Ave &amp; E 110 St</td>\n",
       "      <td>1 Ave &amp; E 18 St</td>\n",
       "      <td>2</td>\n",
       "    </tr>\n",
       "    <tr>\n",
       "      <th>2</th>\n",
       "      <td>1 Ave &amp; E 110 St</td>\n",
       "      <td>1 Ave &amp; E 30 St</td>\n",
       "      <td>4</td>\n",
       "    </tr>\n",
       "    <tr>\n",
       "      <th>3</th>\n",
       "      <td>1 Ave &amp; E 110 St</td>\n",
       "      <td>1 Ave &amp; E 39 St</td>\n",
       "      <td>1</td>\n",
       "    </tr>\n",
       "    <tr>\n",
       "      <th>4</th>\n",
       "      <td>1 Ave &amp; E 110 St</td>\n",
       "      <td>1 Ave &amp; E 44 St</td>\n",
       "      <td>12</td>\n",
       "    </tr>\n",
       "  </tbody>\n",
       "</table>\n",
       "</div>"
      ],
      "text/plain": [
       "  start_station_name  end_station_name  trips\n",
       "0   1 Ave & E 110 St  1 Ave & E 110 St    791\n",
       "1   1 Ave & E 110 St   1 Ave & E 18 St      2\n",
       "2   1 Ave & E 110 St   1 Ave & E 30 St      4\n",
       "3   1 Ave & E 110 St   1 Ave & E 39 St      1\n",
       "4   1 Ave & E 110 St   1 Ave & E 44 St     12"
      ]
     },
     "execution_count": 10,
     "metadata": {},
     "output_type": "execute_result"
    }
   ],
   "source": [
    "df_group.head()\n"
   ]
  },
  {
   "cell_type": "code",
   "execution_count": 11,
   "id": "c5d6e124",
   "metadata": {},
   "outputs": [
    {
     "data": {
      "text/plain": [
       "Index(['ride_id', 'rideable_type', 'started_at', 'ended_at',\n",
       "       'start_station_name', 'start_station_id', 'end_station_name',\n",
       "       'end_station_id', 'start_lat', 'start_lng', 'end_lat', 'end_lng',\n",
       "       'member_casual', 'date', 'avgWeather', '_merge', 'value'],\n",
       "      dtype='object')"
      ]
     },
     "execution_count": 11,
     "metadata": {},
     "output_type": "execute_result"
    }
   ],
   "source": [
    "df.columns"
   ]
  },
  {
   "cell_type": "code",
   "execution_count": 12,
   "id": "ca8632a8",
   "metadata": {},
   "outputs": [],
   "source": [
    "# Drop duplicates to get unique station coordinates\n",
    "df_unique = df.drop_duplicates(subset=['start_station_name', 'end_station_name'])[\n",
    "    ['start_station_name', 'end_station_name', 'start_lat', \n",
    "     'start_lng', 'end_lat', 'end_lng']]"
   ]
  },
  {
   "cell_type": "code",
   "execution_count": 13,
   "id": "832df3a0-10fd-489b-8dba-05ec640f6095",
   "metadata": {},
   "outputs": [],
   "source": [
    "# Merge coordinates back\n",
    "df_final = df_group.merge(df_unique, on=['start_station_name', 'end_station_name'], how='left')"
   ]
  },
  {
   "cell_type": "code",
   "execution_count": 14,
   "id": "28918a10-9272-41c9-91e8-fd7bcd0c9b91",
   "metadata": {},
   "outputs": [],
   "source": [
    "# Select top 300 routes for performance\n",
    "df_final = df_final.nlargest(300, 'trips')"
   ]
  },
  {
   "cell_type": "code",
   "execution_count": 15,
   "id": "ab6c16bb-a127-4207-b5a2-f9f466e8e769",
   "metadata": {},
   "outputs": [],
   "source": [
    "# Save filtered data\n",
    "df_final.to_csv('nyc_bike_data_top_300.csv', index=False)"
   ]
  },
  {
   "cell_type": "code",
   "execution_count": 23,
   "id": "e196980e-6c5a-4567-b573-cd41b75fa53b",
   "metadata": {},
   "outputs": [],
   "source": [
    "##Filtered data was used to make the map on Kepler website as the full dataset was too large to load."
   ]
  },
  {
   "cell_type": "code",
   "execution_count": 21,
   "id": "e6a9cb58-436b-4e7a-84f8-36f70fb9af89",
   "metadata": {},
   "outputs": [],
   "source": [
    "# Customization\n",
    "#Start and End Points: Displayed as blue points with a radius of 5. Blue provides strong visibility against the dark basemap while keeping the focus on clusters of activity.\n",
    "#Arcs: I used orange for the arc source (where trips start) and blue for the arc target (where trips end). This palette helps distinguish directionality: orange (warmer color) indicates the start, while blue (cooler color) indicates the destination. This makes the flow of trips immediately clear."
   ]
  },
  {
   "cell_type": "code",
   "execution_count": 22,
   "id": "95c2a9c1-f26c-4ed2-939d-09223cb39418",
   "metadata": {},
   "outputs": [],
   "source": [
    "# Observations after filtering\n",
    "#Dense concentrations around Midtown Manhattan – especially near Times Square, Penn Station, and Grand Central.\n",
    "#Lower Manhattan (Wall Street, Financial District) which stands out as a major work destination.\n",
    "#Connections to Brooklyn and Queens, which reflect commuting patterns.\n",
    "#Airport-linked trips (especially LaGuardia), which are prominent because of constant passenger turnover."
   ]
  },
  {
   "cell_type": "code",
   "execution_count": null,
   "id": "ea179dd0-087b-4f6b-a856-6fc734488643",
   "metadata": {},
   "outputs": [],
   "source": []
  },
  {
   "cell_type": "code",
   "execution_count": null,
   "id": "bc941808-6d65-4139-af8c-0c148eac4438",
   "metadata": {},
   "outputs": [],
   "source": []
  }
 ],
 "metadata": {
  "kernelspec": {
   "display_name": "Python (New_York_CitiBike)",
   "language": "python",
   "name": "new_york_citibike"
  },
  "language_info": {
   "codemirror_mode": {
    "name": "ipython",
    "version": 3
   },
   "file_extension": ".py",
   "mimetype": "text/x-python",
   "name": "python",
   "nbconvert_exporter": "python",
   "pygments_lexer": "ipython3",
   "version": "3.10.18"
  }
 },
 "nbformat": 4,
 "nbformat_minor": 5
}
