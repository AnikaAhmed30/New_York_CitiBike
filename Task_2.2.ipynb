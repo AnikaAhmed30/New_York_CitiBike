{
 "cells": [
  {
   "cell_type": "code",
   "execution_count": 9,
   "id": "b68af17e-31c8-4be2-828d-026a78a2ba74",
   "metadata": {},
   "outputs": [],
   "source": [
    "import pandas as pd\n",
    "import numpy as np\n",
    "import os\n",
    "import requests\n",
    "import json\n",
    "from datetime import datetime\n",
    "import zipfile"
   ]
  },
  {
   "cell_type": "code",
   "execution_count": 16,
   "id": "51981339-cfd5-4a70-9ea3-cae1575b0696",
   "metadata": {},
   "outputs": [],
   "source": [
    "# Set up paths\n",
    "main_zip_file = \"2022-citibike-tripdata.zip\"\n",
    "base_folder = \"Data\""
   ]
  },
  {
   "cell_type": "code",
   "execution_count": 18,
   "id": "e807e679-1928-4de5-9fb1-6d0454e797f6",
   "metadata": {},
   "outputs": [
    {
     "name": "stdout",
     "output_type": "stream",
     "text": [
      "Extracting 2022-citibike-tripdata.zip to Data...\n"
     ]
    }
   ],
   "source": [
    "#Extract the main zip file\n",
    "if os.path.exists(main_zip_file):\n",
    "    print(f\"Extracting {main_zip_file} to {base_folder}...\")\n",
    "    with zipfile.ZipFile(main_zip_file, 'r') as zip_ref:\n",
    "        zip_ref.extractall(base_folder)\n",
    "else:\n",
    "    print(f\"Error: {main_zip_file} not found.\")\n",
    "    exit()"
   ]
  },
  {
   "cell_type": "code",
   "execution_count": 19,
   "id": "02098e24-0928-4f4d-a341-3f5b63322b3d",
   "metadata": {},
   "outputs": [
    {
     "name": "stdout",
     "output_type": "stream",
     "text": [
      "Extracted Data\\2022-citibike-tripdata\\202201-citibike-tripdata.zip to Data\\2022-citibike-tripdata\n",
      "Extracted Data\\2022-citibike-tripdata\\202202-citibike-tripdata.zip to Data\\2022-citibike-tripdata\n",
      "Extracted Data\\2022-citibike-tripdata\\202203-citibike-tripdata.zip to Data\\2022-citibike-tripdata\n",
      "Extracted Data\\2022-citibike-tripdata\\202204-citibike-tripdata.zip to Data\\2022-citibike-tripdata\n",
      "Extracted Data\\2022-citibike-tripdata\\202205-citibike-tripdata.zip to Data\\2022-citibike-tripdata\n",
      "Extracted Data\\2022-citibike-tripdata\\202206-citibike-tripdata.zip to Data\\2022-citibike-tripdata\n",
      "Extracted Data\\2022-citibike-tripdata\\202207-citibike-tripdata.zip to Data\\2022-citibike-tripdata\n",
      "Extracted Data\\2022-citibike-tripdata\\202208-citibike-tripdata.zip to Data\\2022-citibike-tripdata\n",
      "Extracted Data\\2022-citibike-tripdata\\202209-citibike-tripdata.zip to Data\\2022-citibike-tripdata\n",
      "Extracted Data\\2022-citibike-tripdata\\202210-citibike-tripdata.zip to Data\\2022-citibike-tripdata\n",
      "Extracted Data\\2022-citibike-tripdata\\202211-citibike-tripdata.zip to Data\\2022-citibike-tripdata\n",
      "Extracted Data\\2022-citibike-tripdata\\202212-citibike-tripdata.zip to Data\\2022-citibike-tripdata\n"
     ]
    }
   ],
   "source": [
    "#Extract all nested zip files in subfolders\n",
    "for root, dirs, files in os.walk(base_folder):\n",
    "    for file in files:\n",
    "        if file.lower().endswith('.zip'):\n",
    "            zip_path = os.path.join(root, file)\n",
    "            # Extract each monthly zip to its own folder\n",
    "            with zipfile.ZipFile(zip_path, 'r') as zip_ref:\n",
    "                zip_ref.extractall(root)\n",
    "                print(f\"Extracted {zip_path} to {root}\")"
   ]
  },
  {
   "cell_type": "code",
   "execution_count": 20,
   "id": "3facd782-fddb-47f4-9a6e-e5a8d231f5b2",
   "metadata": {},
   "outputs": [
    {
     "name": "stdout",
     "output_type": "stream",
     "text": [
      "CSV file paths: ['Data\\\\2022-citibike-tripdata\\\\202201-citibike-tripdata_1.csv', 'Data\\\\2022-citibike-tripdata\\\\202201-citibike-tripdata_2.csv', 'Data\\\\2022-citibike-tripdata\\\\202202-citibike-tripdata_1.csv', 'Data\\\\2022-citibike-tripdata\\\\202202-citibike-tripdata_2.csv', 'Data\\\\2022-citibike-tripdata\\\\202203-citibike-tripdata_1.csv', 'Data\\\\2022-citibike-tripdata\\\\202203-citibike-tripdata_2.csv', 'Data\\\\2022-citibike-tripdata\\\\202204-citibike-tripdata_1.csv', 'Data\\\\2022-citibike-tripdata\\\\202204-citibike-tripdata_2.csv', 'Data\\\\2022-citibike-tripdata\\\\202204-citibike-tripdata_3.csv', 'Data\\\\2022-citibike-tripdata\\\\202205-citibike-tripdata_1.csv', 'Data\\\\2022-citibike-tripdata\\\\202205-citibike-tripdata_2.csv', 'Data\\\\2022-citibike-tripdata\\\\202205-citibike-tripdata_3.csv', 'Data\\\\2022-citibike-tripdata\\\\202206-citibike-tripdata_1.csv', 'Data\\\\2022-citibike-tripdata\\\\202206-citibike-tripdata_2.csv', 'Data\\\\2022-citibike-tripdata\\\\202206-citibike-tripdata_3.csv', 'Data\\\\2022-citibike-tripdata\\\\202206-citibike-tripdata_4.csv', 'Data\\\\2022-citibike-tripdata\\\\202207-citibike-tripdata_1.csv', 'Data\\\\2022-citibike-tripdata\\\\202207-citibike-tripdata_2.csv', 'Data\\\\2022-citibike-tripdata\\\\202207-citibike-tripdata_3.csv', 'Data\\\\2022-citibike-tripdata\\\\202207-citibike-tripdata_4.csv', 'Data\\\\2022-citibike-tripdata\\\\202208-citibike-tripdata_1.csv', 'Data\\\\2022-citibike-tripdata\\\\202208-citibike-tripdata_2.csv', 'Data\\\\2022-citibike-tripdata\\\\202208-citibike-tripdata_3.csv', 'Data\\\\2022-citibike-tripdata\\\\202208-citibike-tripdata_4.csv', 'Data\\\\2022-citibike-tripdata\\\\202209-citibike-tripdata_1.csv', 'Data\\\\2022-citibike-tripdata\\\\202209-citibike-tripdata_2.csv', 'Data\\\\2022-citibike-tripdata\\\\202209-citibike-tripdata_3.csv', 'Data\\\\2022-citibike-tripdata\\\\202209-citibike-tripdata_4.csv', 'Data\\\\2022-citibike-tripdata\\\\202210-citibike-tripdata_1.csv', 'Data\\\\2022-citibike-tripdata\\\\202210-citibike-tripdata_2.csv', 'Data\\\\2022-citibike-tripdata\\\\202210-citibike-tripdata_3.csv', 'Data\\\\2022-citibike-tripdata\\\\202211-citibike-tripdata_1.csv', 'Data\\\\2022-citibike-tripdata\\\\202211-citibike-tripdata_2.csv', 'Data\\\\2022-citibike-tripdata\\\\202211-citibike-tripdata_3.csv', 'Data\\\\2022-citibike-tripdata\\\\202212-citibike-tripdata_1.csv', 'Data\\\\2022-citibike-tripdata\\\\202212-citibike-tripdata_2.csv']\n"
     ]
    }
   ],
   "source": [
    "#Collect all CSV file paths recursively\n",
    "filepaths = []\n",
    "for root, dirs, files in os.walk(base_folder):\n",
    "    for name in files:\n",
    "        if name.lower().endswith('.csv'):\n",
    "            filepaths.append(os.path.join(root, name))\n",
    "print(\"CSV file paths:\", filepaths)"
   ]
  },
  {
   "cell_type": "code",
   "execution_count": 22,
   "id": "2c447b31-2d64-4439-9bc9-3a66bc5d4b7f",
   "metadata": {},
   "outputs": [
    {
     "name": "stderr",
     "output_type": "stream",
     "text": [
      "C:\\Users\\anika\\AppData\\Local\\Temp\\ipykernel_2656\\571569426.py:5: DtypeWarning: Columns (5,7) have mixed types. Specify dtype option on import or set low_memory=False.\n",
      "  df = pd.read_csv(filepath)\n"
     ]
    },
    {
     "name": "stdout",
     "output_type": "stream",
     "text": [
      "Successfully read Data\\2022-citibike-tripdata\\202201-citibike-tripdata_1.csv with 1000000 rows\n",
      "Successfully read Data\\2022-citibike-tripdata\\202201-citibike-tripdata_2.csv with 24555 rows\n"
     ]
    },
    {
     "name": "stderr",
     "output_type": "stream",
     "text": [
      "C:\\Users\\anika\\AppData\\Local\\Temp\\ipykernel_2656\\571569426.py:5: DtypeWarning: Columns (5,7) have mixed types. Specify dtype option on import or set low_memory=False.\n",
      "  df = pd.read_csv(filepath)\n"
     ]
    },
    {
     "name": "stdout",
     "output_type": "stream",
     "text": [
      "Successfully read Data\\2022-citibike-tripdata\\202202-citibike-tripdata_1.csv with 1000000 rows\n"
     ]
    },
    {
     "name": "stderr",
     "output_type": "stream",
     "text": [
      "C:\\Users\\anika\\AppData\\Local\\Temp\\ipykernel_2656\\571569426.py:5: DtypeWarning: Columns (7) have mixed types. Specify dtype option on import or set low_memory=False.\n",
      "  df = pd.read_csv(filepath)\n"
     ]
    },
    {
     "name": "stdout",
     "output_type": "stream",
     "text": [
      "Successfully read Data\\2022-citibike-tripdata\\202202-citibike-tripdata_2.csv with 197312 rows\n"
     ]
    },
    {
     "name": "stderr",
     "output_type": "stream",
     "text": [
      "C:\\Users\\anika\\AppData\\Local\\Temp\\ipykernel_2656\\571569426.py:5: DtypeWarning: Columns (5,7) have mixed types. Specify dtype option on import or set low_memory=False.\n",
      "  df = pd.read_csv(filepath)\n"
     ]
    },
    {
     "name": "stdout",
     "output_type": "stream",
     "text": [
      "Successfully read Data\\2022-citibike-tripdata\\202203-citibike-tripdata_1.csv with 1000000 rows\n"
     ]
    },
    {
     "name": "stderr",
     "output_type": "stream",
     "text": [
      "C:\\Users\\anika\\AppData\\Local\\Temp\\ipykernel_2656\\571569426.py:5: DtypeWarning: Columns (5,7) have mixed types. Specify dtype option on import or set low_memory=False.\n",
      "  df = pd.read_csv(filepath)\n"
     ]
    },
    {
     "name": "stdout",
     "output_type": "stream",
     "text": [
      "Successfully read Data\\2022-citibike-tripdata\\202203-citibike-tripdata_2.csv with 845965 rows\n"
     ]
    },
    {
     "name": "stderr",
     "output_type": "stream",
     "text": [
      "C:\\Users\\anika\\AppData\\Local\\Temp\\ipykernel_2656\\571569426.py:5: DtypeWarning: Columns (5,7) have mixed types. Specify dtype option on import or set low_memory=False.\n",
      "  df = pd.read_csv(filepath)\n"
     ]
    },
    {
     "name": "stdout",
     "output_type": "stream",
     "text": [
      "Successfully read Data\\2022-citibike-tripdata\\202204-citibike-tripdata_1.csv with 1000000 rows\n"
     ]
    },
    {
     "name": "stderr",
     "output_type": "stream",
     "text": [
      "C:\\Users\\anika\\AppData\\Local\\Temp\\ipykernel_2656\\571569426.py:5: DtypeWarning: Columns (5,7) have mixed types. Specify dtype option on import or set low_memory=False.\n",
      "  df = pd.read_csv(filepath)\n"
     ]
    },
    {
     "name": "stdout",
     "output_type": "stream",
     "text": [
      "Successfully read Data\\2022-citibike-tripdata\\202204-citibike-tripdata_2.csv with 1000000 rows\n"
     ]
    },
    {
     "name": "stderr",
     "output_type": "stream",
     "text": [
      "C:\\Users\\anika\\AppData\\Local\\Temp\\ipykernel_2656\\571569426.py:5: DtypeWarning: Columns (5,7) have mixed types. Specify dtype option on import or set low_memory=False.\n",
      "  df = pd.read_csv(filepath)\n"
     ]
    },
    {
     "name": "stdout",
     "output_type": "stream",
     "text": [
      "Successfully read Data\\2022-citibike-tripdata\\202204-citibike-tripdata_3.csv with 260790 rows\n"
     ]
    },
    {
     "name": "stderr",
     "output_type": "stream",
     "text": [
      "C:\\Users\\anika\\AppData\\Local\\Temp\\ipykernel_2656\\571569426.py:5: DtypeWarning: Columns (5,7) have mixed types. Specify dtype option on import or set low_memory=False.\n",
      "  df = pd.read_csv(filepath)\n"
     ]
    },
    {
     "name": "stdout",
     "output_type": "stream",
     "text": [
      "Successfully read Data\\2022-citibike-tripdata\\202205-citibike-tripdata_1.csv with 1000000 rows\n"
     ]
    },
    {
     "name": "stderr",
     "output_type": "stream",
     "text": [
      "C:\\Users\\anika\\AppData\\Local\\Temp\\ipykernel_2656\\571569426.py:5: DtypeWarning: Columns (5,7) have mixed types. Specify dtype option on import or set low_memory=False.\n",
      "  df = pd.read_csv(filepath)\n"
     ]
    },
    {
     "name": "stdout",
     "output_type": "stream",
     "text": [
      "Successfully read Data\\2022-citibike-tripdata\\202205-citibike-tripdata_2.csv with 1000000 rows\n"
     ]
    },
    {
     "name": "stderr",
     "output_type": "stream",
     "text": [
      "C:\\Users\\anika\\AppData\\Local\\Temp\\ipykernel_2656\\571569426.py:5: DtypeWarning: Columns (5,7) have mixed types. Specify dtype option on import or set low_memory=False.\n",
      "  df = pd.read_csv(filepath)\n"
     ]
    },
    {
     "name": "stdout",
     "output_type": "stream",
     "text": [
      "Successfully read Data\\2022-citibike-tripdata\\202205-citibike-tripdata_3.csv with 865425 rows\n"
     ]
    },
    {
     "name": "stderr",
     "output_type": "stream",
     "text": [
      "C:\\Users\\anika\\AppData\\Local\\Temp\\ipykernel_2656\\571569426.py:5: DtypeWarning: Columns (5,7) have mixed types. Specify dtype option on import or set low_memory=False.\n",
      "  df = pd.read_csv(filepath)\n"
     ]
    },
    {
     "name": "stdout",
     "output_type": "stream",
     "text": [
      "Successfully read Data\\2022-citibike-tripdata\\202206-citibike-tripdata_1.csv with 1000000 rows\n"
     ]
    },
    {
     "name": "stderr",
     "output_type": "stream",
     "text": [
      "C:\\Users\\anika\\AppData\\Local\\Temp\\ipykernel_2656\\571569426.py:5: DtypeWarning: Columns (5,7) have mixed types. Specify dtype option on import or set low_memory=False.\n",
      "  df = pd.read_csv(filepath)\n"
     ]
    },
    {
     "name": "stdout",
     "output_type": "stream",
     "text": [
      "Successfully read Data\\2022-citibike-tripdata\\202206-citibike-tripdata_2.csv with 1000000 rows\n"
     ]
    },
    {
     "name": "stderr",
     "output_type": "stream",
     "text": [
      "C:\\Users\\anika\\AppData\\Local\\Temp\\ipykernel_2656\\571569426.py:5: DtypeWarning: Columns (5,7) have mixed types. Specify dtype option on import or set low_memory=False.\n",
      "  df = pd.read_csv(filepath)\n"
     ]
    },
    {
     "name": "stdout",
     "output_type": "stream",
     "text": [
      "Successfully read Data\\2022-citibike-tripdata\\202206-citibike-tripdata_3.csv with 1000000 rows\n"
     ]
    },
    {
     "name": "stderr",
     "output_type": "stream",
     "text": [
      "C:\\Users\\anika\\AppData\\Local\\Temp\\ipykernel_2656\\571569426.py:5: DtypeWarning: Columns (5,7) have mixed types. Specify dtype option on import or set low_memory=False.\n",
      "  df = pd.read_csv(filepath)\n"
     ]
    },
    {
     "name": "stdout",
     "output_type": "stream",
     "text": [
      "Successfully read Data\\2022-citibike-tripdata\\202206-citibike-tripdata_4.csv with 343914 rows\n"
     ]
    },
    {
     "name": "stderr",
     "output_type": "stream",
     "text": [
      "C:\\Users\\anika\\AppData\\Local\\Temp\\ipykernel_2656\\571569426.py:5: DtypeWarning: Columns (5,7) have mixed types. Specify dtype option on import or set low_memory=False.\n",
      "  df = pd.read_csv(filepath)\n"
     ]
    },
    {
     "name": "stdout",
     "output_type": "stream",
     "text": [
      "Successfully read Data\\2022-citibike-tripdata\\202207-citibike-tripdata_1.csv with 1000000 rows\n"
     ]
    },
    {
     "name": "stderr",
     "output_type": "stream",
     "text": [
      "C:\\Users\\anika\\AppData\\Local\\Temp\\ipykernel_2656\\571569426.py:5: DtypeWarning: Columns (5,7) have mixed types. Specify dtype option on import or set low_memory=False.\n",
      "  df = pd.read_csv(filepath)\n"
     ]
    },
    {
     "name": "stdout",
     "output_type": "stream",
     "text": [
      "Successfully read Data\\2022-citibike-tripdata\\202207-citibike-tripdata_2.csv with 1000000 rows\n"
     ]
    },
    {
     "name": "stderr",
     "output_type": "stream",
     "text": [
      "C:\\Users\\anika\\AppData\\Local\\Temp\\ipykernel_2656\\571569426.py:5: DtypeWarning: Columns (5,7) have mixed types. Specify dtype option on import or set low_memory=False.\n",
      "  df = pd.read_csv(filepath)\n"
     ]
    },
    {
     "name": "stdout",
     "output_type": "stream",
     "text": [
      "Successfully read Data\\2022-citibike-tripdata\\202207-citibike-tripdata_3.csv with 1000000 rows\n"
     ]
    },
    {
     "name": "stderr",
     "output_type": "stream",
     "text": [
      "C:\\Users\\anika\\AppData\\Local\\Temp\\ipykernel_2656\\571569426.py:5: DtypeWarning: Columns (5,7) have mixed types. Specify dtype option on import or set low_memory=False.\n",
      "  df = pd.read_csv(filepath)\n"
     ]
    },
    {
     "name": "stdout",
     "output_type": "stream",
     "text": [
      "Successfully read Data\\2022-citibike-tripdata\\202207-citibike-tripdata_4.csv with 397932 rows\n"
     ]
    },
    {
     "name": "stderr",
     "output_type": "stream",
     "text": [
      "C:\\Users\\anika\\AppData\\Local\\Temp\\ipykernel_2656\\571569426.py:5: DtypeWarning: Columns (5,7) have mixed types. Specify dtype option on import or set low_memory=False.\n",
      "  df = pd.read_csv(filepath)\n"
     ]
    },
    {
     "name": "stdout",
     "output_type": "stream",
     "text": [
      "Successfully read Data\\2022-citibike-tripdata\\202208-citibike-tripdata_1.csv with 1000000 rows\n"
     ]
    },
    {
     "name": "stderr",
     "output_type": "stream",
     "text": [
      "C:\\Users\\anika\\AppData\\Local\\Temp\\ipykernel_2656\\571569426.py:5: DtypeWarning: Columns (5,7) have mixed types. Specify dtype option on import or set low_memory=False.\n",
      "  df = pd.read_csv(filepath)\n"
     ]
    },
    {
     "name": "stdout",
     "output_type": "stream",
     "text": [
      "Successfully read Data\\2022-citibike-tripdata\\202208-citibike-tripdata_2.csv with 1000000 rows\n"
     ]
    },
    {
     "name": "stderr",
     "output_type": "stream",
     "text": [
      "C:\\Users\\anika\\AppData\\Local\\Temp\\ipykernel_2656\\571569426.py:5: DtypeWarning: Columns (5,7) have mixed types. Specify dtype option on import or set low_memory=False.\n",
      "  df = pd.read_csv(filepath)\n"
     ]
    },
    {
     "name": "stdout",
     "output_type": "stream",
     "text": [
      "Successfully read Data\\2022-citibike-tripdata\\202208-citibike-tripdata_3.csv with 1000000 rows\n"
     ]
    },
    {
     "name": "stderr",
     "output_type": "stream",
     "text": [
      "C:\\Users\\anika\\AppData\\Local\\Temp\\ipykernel_2656\\571569426.py:5: DtypeWarning: Columns (5,7) have mixed types. Specify dtype option on import or set low_memory=False.\n",
      "  df = pd.read_csv(filepath)\n"
     ]
    },
    {
     "name": "stdout",
     "output_type": "stream",
     "text": [
      "Successfully read Data\\2022-citibike-tripdata\\202208-citibike-tripdata_4.csv with 576020 rows\n"
     ]
    },
    {
     "name": "stderr",
     "output_type": "stream",
     "text": [
      "C:\\Users\\anika\\AppData\\Local\\Temp\\ipykernel_2656\\571569426.py:5: DtypeWarning: Columns (5,7) have mixed types. Specify dtype option on import or set low_memory=False.\n",
      "  df = pd.read_csv(filepath)\n"
     ]
    },
    {
     "name": "stdout",
     "output_type": "stream",
     "text": [
      "Successfully read Data\\2022-citibike-tripdata\\202209-citibike-tripdata_1.csv with 1000000 rows\n"
     ]
    },
    {
     "name": "stderr",
     "output_type": "stream",
     "text": [
      "C:\\Users\\anika\\AppData\\Local\\Temp\\ipykernel_2656\\571569426.py:5: DtypeWarning: Columns (5,7) have mixed types. Specify dtype option on import or set low_memory=False.\n",
      "  df = pd.read_csv(filepath)\n"
     ]
    },
    {
     "name": "stdout",
     "output_type": "stream",
     "text": [
      "Successfully read Data\\2022-citibike-tripdata\\202209-citibike-tripdata_2.csv with 1000000 rows\n"
     ]
    },
    {
     "name": "stderr",
     "output_type": "stream",
     "text": [
      "C:\\Users\\anika\\AppData\\Local\\Temp\\ipykernel_2656\\571569426.py:5: DtypeWarning: Columns (5,7) have mixed types. Specify dtype option on import or set low_memory=False.\n",
      "  df = pd.read_csv(filepath)\n"
     ]
    },
    {
     "name": "stdout",
     "output_type": "stream",
     "text": [
      "Successfully read Data\\2022-citibike-tripdata\\202209-citibike-tripdata_3.csv with 1000000 rows\n"
     ]
    },
    {
     "name": "stderr",
     "output_type": "stream",
     "text": [
      "C:\\Users\\anika\\AppData\\Local\\Temp\\ipykernel_2656\\571569426.py:5: DtypeWarning: Columns (5,7) have mixed types. Specify dtype option on import or set low_memory=False.\n",
      "  df = pd.read_csv(filepath)\n"
     ]
    },
    {
     "name": "stdout",
     "output_type": "stream",
     "text": [
      "Successfully read Data\\2022-citibike-tripdata\\202209-citibike-tripdata_4.csv with 411866 rows\n"
     ]
    },
    {
     "name": "stderr",
     "output_type": "stream",
     "text": [
      "C:\\Users\\anika\\AppData\\Local\\Temp\\ipykernel_2656\\571569426.py:5: DtypeWarning: Columns (5,7) have mixed types. Specify dtype option on import or set low_memory=False.\n",
      "  df = pd.read_csv(filepath)\n"
     ]
    },
    {
     "name": "stdout",
     "output_type": "stream",
     "text": [
      "Successfully read Data\\2022-citibike-tripdata\\202210-citibike-tripdata_1.csv with 1000000 rows\n"
     ]
    },
    {
     "name": "stderr",
     "output_type": "stream",
     "text": [
      "C:\\Users\\anika\\AppData\\Local\\Temp\\ipykernel_2656\\571569426.py:5: DtypeWarning: Columns (5,7) have mixed types. Specify dtype option on import or set low_memory=False.\n",
      "  df = pd.read_csv(filepath)\n"
     ]
    },
    {
     "name": "stdout",
     "output_type": "stream",
     "text": [
      "Successfully read Data\\2022-citibike-tripdata\\202210-citibike-tripdata_2.csv with 1000000 rows\n"
     ]
    },
    {
     "name": "stderr",
     "output_type": "stream",
     "text": [
      "C:\\Users\\anika\\AppData\\Local\\Temp\\ipykernel_2656\\571569426.py:5: DtypeWarning: Columns (5,7) have mixed types. Specify dtype option on import or set low_memory=False.\n",
      "  df = pd.read_csv(filepath)\n"
     ]
    },
    {
     "name": "stdout",
     "output_type": "stream",
     "text": [
      "Successfully read Data\\2022-citibike-tripdata\\202210-citibike-tripdata_3.csv with 936584 rows\n"
     ]
    },
    {
     "name": "stderr",
     "output_type": "stream",
     "text": [
      "C:\\Users\\anika\\AppData\\Local\\Temp\\ipykernel_2656\\571569426.py:5: DtypeWarning: Columns (5,7) have mixed types. Specify dtype option on import or set low_memory=False.\n",
      "  df = pd.read_csv(filepath)\n"
     ]
    },
    {
     "name": "stdout",
     "output_type": "stream",
     "text": [
      "Successfully read Data\\2022-citibike-tripdata\\202211-citibike-tripdata_1.csv with 1000000 rows\n"
     ]
    },
    {
     "name": "stderr",
     "output_type": "stream",
     "text": [
      "C:\\Users\\anika\\AppData\\Local\\Temp\\ipykernel_2656\\571569426.py:5: DtypeWarning: Columns (5,7) have mixed types. Specify dtype option on import or set low_memory=False.\n",
      "  df = pd.read_csv(filepath)\n"
     ]
    },
    {
     "name": "stdout",
     "output_type": "stream",
     "text": [
      "Successfully read Data\\2022-citibike-tripdata\\202211-citibike-tripdata_2.csv with 1000000 rows\n"
     ]
    },
    {
     "name": "stderr",
     "output_type": "stream",
     "text": [
      "C:\\Users\\anika\\AppData\\Local\\Temp\\ipykernel_2656\\571569426.py:5: DtypeWarning: Columns (7) have mixed types. Specify dtype option on import or set low_memory=False.\n",
      "  df = pd.read_csv(filepath)\n"
     ]
    },
    {
     "name": "stdout",
     "output_type": "stream",
     "text": [
      "Successfully read Data\\2022-citibike-tripdata\\202211-citibike-tripdata_3.csv with 386394 rows\n"
     ]
    },
    {
     "name": "stderr",
     "output_type": "stream",
     "text": [
      "C:\\Users\\anika\\AppData\\Local\\Temp\\ipykernel_2656\\571569426.py:5: DtypeWarning: Columns (5,7) have mixed types. Specify dtype option on import or set low_memory=False.\n",
      "  df = pd.read_csv(filepath)\n"
     ]
    },
    {
     "name": "stdout",
     "output_type": "stream",
     "text": [
      "Successfully read Data\\2022-citibike-tripdata\\202212-citibike-tripdata_1.csv with 1000000 rows\n"
     ]
    },
    {
     "name": "stderr",
     "output_type": "stream",
     "text": [
      "C:\\Users\\anika\\AppData\\Local\\Temp\\ipykernel_2656\\571569426.py:5: DtypeWarning: Columns (5,7) have mixed types. Specify dtype option on import or set low_memory=False.\n",
      "  df = pd.read_csv(filepath)\n"
     ]
    },
    {
     "name": "stdout",
     "output_type": "stream",
     "text": [
      "Successfully read Data\\2022-citibike-tripdata\\202212-citibike-tripdata_2.csv with 592049 rows\n"
     ]
    }
   ],
   "source": [
    "#Read and concatenate valid CSVs\n",
    "dataframes = []\n",
    "for filepath in filepaths:\n",
    "    try:\n",
    "        df = pd.read_csv(filepath)\n",
    "        if not df.empty:\n",
    "            dataframes.append(df)\n",
    "            print(f\"Successfully read {filepath} with {len(df)} rows\")\n",
    "        else:\n",
    "            print(f\"Skipping empty file: {filepath}\")\n",
    "    except Exception as e:\n",
    "        print(f\"Error reading {filepath}: {e}\")"
   ]
  },
  {
   "cell_type": "code",
   "execution_count": 23,
   "id": "2c916a3f-a025-4776-b8f4-16f356d55d61",
   "metadata": {},
   "outputs": [
    {
     "name": "stdout",
     "output_type": "stream",
     "text": [
      "Combined DataFrame shape: (29838806, 13)\n",
      "First few rows:\n",
      "             ride_id  rideable_type               started_at  \\\n",
      "0  BFD29218AB271154  electric_bike  2022-01-21 13:13:43.392   \n",
      "1  7C953F2FD7BE1302   classic_bike  2022-01-10 11:30:54.162   \n",
      "2  95893ABD40CED4B8  electric_bike  2022-01-26 10:52:43.096   \n",
      "3  F853B50772137378   classic_bike  2022-01-03 08:35:48.247   \n",
      "4  7590ADF834797B4B   classic_bike  2022-01-22 14:14:23.043   \n",
      "\n",
      "                  ended_at       start_station_name start_station_id  \\\n",
      "0  2022-01-21 13:22:31.463  West End Ave & W 107 St          7650.05   \n",
      "1  2022-01-10 11:41:43.422             4 Ave & 3 St          4028.04   \n",
      "2  2022-01-26 11:06:35.227          1 Ave & E 62 St          6753.08   \n",
      "3  2022-01-03 09:10:50.475          2 Ave & E 96 St          7338.02   \n",
      "4  2022-01-22 14:34:57.474          6 Ave & W 34 St          6364.10   \n",
      "\n",
      "              end_station_name end_station_id  start_lat  start_lng  \\\n",
      "0  Mt Morris Park W & W 120 St        7685.14  40.802117 -73.968181   \n",
      "1      Boerum Pl\\t& Pacific St        4488.09  40.673746 -73.985649   \n",
      "2              5 Ave & E 29 St        6248.06  40.761227 -73.960940   \n",
      "3              5 Ave & E 29 St        6248.06  40.783964 -73.947167   \n",
      "4              5 Ave & E 29 St        6248.06  40.749640 -73.988050   \n",
      "\n",
      "     end_lat    end_lng member_casual  \n",
      "0  40.804038 -73.945925        member  \n",
      "1  40.688489 -73.991160        member  \n",
      "2  40.745168 -73.986831        member  \n",
      "3  40.745168 -73.986831        member  \n",
      "4  40.745168 -73.986831        member  \n"
     ]
    }
   ],
   "source": [
    "#Concatenate if there are valid DataFrames\n",
    "if dataframes:\n",
    "    all_data = pd.concat(dataframes, ignore_index=True)\n",
    "    print(\"Combined DataFrame shape:\", all_data.shape)\n",
    "    print(\"First few rows:\\n\", all_data.head())\n",
    "else:\n",
    "    print(\"Error: No valid DataFrames to concatenate.\")"
   ]
  },
  {
   "cell_type": "code",
   "execution_count": 28,
   "id": "df72b779-c59f-40a7-b9fa-a5a94e8f654f",
   "metadata": {},
   "outputs": [],
   "source": [
    "#Fetch weather data\n",
    "token = \"NrGUVnRacbLeKedemDqDQuNxVtmcODPq\"\n",
    "url = \"https://www.ncdc.noaa.gov/cdo-web/api/v2/data\"\n",
    "station_id = \"GHCND:USW00014732\"\n",
    "params = {\"datasetid\": \"GHCND\",\n",
    "    \"stationid\": \"GHCND:USW00014732\",  # LaGuardia Airport\n",
    "    \"startdate\": \"2022-01-01\",\n",
    "    \"enddate\": \"2022-12-31\",\n",
    "    \"units\": \"metric\",\n",
    "    \"limit\": 1000}\n",
    "\n",
    "headers = {\"token\": token}"
   ]
  },
  {
   "cell_type": "code",
   "execution_count": 29,
   "id": "dbf895b0-45c2-41f8-92fe-d6b2a5c6410c",
   "metadata": {},
   "outputs": [],
   "source": [
    "#Storing in JSON\n",
    "response = requests.get(url, params=params, headers=headers)\n",
    "weather_data = response.json()"
   ]
  },
  {
   "cell_type": "code",
   "execution_count": 30,
   "id": "705ce0f5-63d7-4631-aff8-3b4138303614",
   "metadata": {},
   "outputs": [],
   "source": [
    "#convert json to df\n",
    "weather_df = pd.DataFrame(weather_data[\"results\"])"
   ]
  },
  {
   "cell_type": "code",
   "execution_count": 31,
   "id": "985822a8-425c-4032-adae-1c69dab535b6",
   "metadata": {},
   "outputs": [],
   "source": [
    "#Export\n",
    "weather_df.to_csv(\"data/weather_2022.csv\", index=False)"
   ]
  },
  {
   "cell_type": "code",
   "execution_count": 35,
   "id": "0bb96a69-c124-43f6-b055-04661809d100",
   "metadata": {},
   "outputs": [
    {
     "data": {
      "text/html": [
       "<div>\n",
       "<style scoped>\n",
       "    .dataframe tbody tr th:only-of-type {\n",
       "        vertical-align: middle;\n",
       "    }\n",
       "\n",
       "    .dataframe tbody tr th {\n",
       "        vertical-align: top;\n",
       "    }\n",
       "\n",
       "    .dataframe thead th {\n",
       "        text-align: right;\n",
       "    }\n",
       "</style>\n",
       "<table border=\"1\" class=\"dataframe\">\n",
       "  <thead>\n",
       "    <tr style=\"text-align: right;\">\n",
       "      <th></th>\n",
       "      <th>ride_id</th>\n",
       "      <th>rideable_type</th>\n",
       "      <th>started_at</th>\n",
       "      <th>ended_at</th>\n",
       "      <th>start_station_name</th>\n",
       "      <th>start_station_id</th>\n",
       "      <th>end_station_name</th>\n",
       "      <th>end_station_id</th>\n",
       "      <th>start_lat</th>\n",
       "      <th>start_lng</th>\n",
       "      <th>end_lat</th>\n",
       "      <th>end_lng</th>\n",
       "      <th>member_casual</th>\n",
       "    </tr>\n",
       "  </thead>\n",
       "  <tbody>\n",
       "    <tr>\n",
       "      <th>0</th>\n",
       "      <td>1361583B8DDD2C67</td>\n",
       "      <td>electric_bike</td>\n",
       "      <td>2022-12-07 17:46:15.155</td>\n",
       "      <td>2022-12-07 18:04:36.889</td>\n",
       "      <td>Vesey St &amp; Church St</td>\n",
       "      <td>5216.06</td>\n",
       "      <td>E 11 St &amp; 1 Ave</td>\n",
       "      <td>5746.14</td>\n",
       "      <td>40.712220</td>\n",
       "      <td>-74.010472</td>\n",
       "      <td>40.729538</td>\n",
       "      <td>-73.984267</td>\n",
       "      <td>member</td>\n",
       "    </tr>\n",
       "    <tr>\n",
       "      <th>1</th>\n",
       "      <td>3A7AC1ACDD926798</td>\n",
       "      <td>classic_bike</td>\n",
       "      <td>2022-12-18 13:11:31.463</td>\n",
       "      <td>2022-12-18 13:14:24.975</td>\n",
       "      <td>E 5 St &amp; Ave A</td>\n",
       "      <td>5626.06</td>\n",
       "      <td>Ave A &amp; E 14 St</td>\n",
       "      <td>5779.11</td>\n",
       "      <td>40.724790</td>\n",
       "      <td>-73.984301</td>\n",
       "      <td>40.730311</td>\n",
       "      <td>-73.980472</td>\n",
       "      <td>member</td>\n",
       "    </tr>\n",
       "    <tr>\n",
       "      <th>2</th>\n",
       "      <td>DAB816EF7AC4BDC7</td>\n",
       "      <td>electric_bike</td>\n",
       "      <td>2022-12-08 18:39:03.508</td>\n",
       "      <td>2022-12-08 18:45:39.109</td>\n",
       "      <td>6 Ave &amp; W 33 St</td>\n",
       "      <td>6364.07</td>\n",
       "      <td>9 Ave &amp; W 39 St</td>\n",
       "      <td>6644.08</td>\n",
       "      <td>40.748776</td>\n",
       "      <td>-73.988742</td>\n",
       "      <td>40.756404</td>\n",
       "      <td>-73.994101</td>\n",
       "      <td>member</td>\n",
       "    </tr>\n",
       "    <tr>\n",
       "      <th>3</th>\n",
       "      <td>E84E793996D396B3</td>\n",
       "      <td>electric_bike</td>\n",
       "      <td>2022-12-20 16:05:06.384</td>\n",
       "      <td>2022-12-20 16:07:32.967</td>\n",
       "      <td>E 5 St &amp; Ave A</td>\n",
       "      <td>5626.06</td>\n",
       "      <td>Ave A &amp; E 14 St</td>\n",
       "      <td>5779.11</td>\n",
       "      <td>40.725000</td>\n",
       "      <td>-73.984241</td>\n",
       "      <td>40.730311</td>\n",
       "      <td>-73.980472</td>\n",
       "      <td>member</td>\n",
       "    </tr>\n",
       "    <tr>\n",
       "      <th>4</th>\n",
       "      <td>DB6ECA2FFA40CCA2</td>\n",
       "      <td>classic_bike</td>\n",
       "      <td>2022-12-20 09:27:12.027</td>\n",
       "      <td>2022-12-20 09:30:37.044</td>\n",
       "      <td>E 5 St &amp; Ave A</td>\n",
       "      <td>5626.06</td>\n",
       "      <td>Ave A &amp; E 14 St</td>\n",
       "      <td>5779.11</td>\n",
       "      <td>40.724790</td>\n",
       "      <td>-73.984301</td>\n",
       "      <td>40.730311</td>\n",
       "      <td>-73.980472</td>\n",
       "      <td>member</td>\n",
       "    </tr>\n",
       "  </tbody>\n",
       "</table>\n",
       "</div>"
      ],
      "text/plain": [
       "            ride_id  rideable_type               started_at  \\\n",
       "0  1361583B8DDD2C67  electric_bike  2022-12-07 17:46:15.155   \n",
       "1  3A7AC1ACDD926798   classic_bike  2022-12-18 13:11:31.463   \n",
       "2  DAB816EF7AC4BDC7  electric_bike  2022-12-08 18:39:03.508   \n",
       "3  E84E793996D396B3  electric_bike  2022-12-20 16:05:06.384   \n",
       "4  DB6ECA2FFA40CCA2   classic_bike  2022-12-20 09:27:12.027   \n",
       "\n",
       "                  ended_at    start_station_name start_station_id  \\\n",
       "0  2022-12-07 18:04:36.889  Vesey St & Church St          5216.06   \n",
       "1  2022-12-18 13:14:24.975        E 5 St & Ave A          5626.06   \n",
       "2  2022-12-08 18:45:39.109       6 Ave & W 33 St          6364.07   \n",
       "3  2022-12-20 16:07:32.967        E 5 St & Ave A          5626.06   \n",
       "4  2022-12-20 09:30:37.044        E 5 St & Ave A          5626.06   \n",
       "\n",
       "  end_station_name end_station_id  start_lat  start_lng    end_lat    end_lng  \\\n",
       "0  E 11 St & 1 Ave        5746.14  40.712220 -74.010472  40.729538 -73.984267   \n",
       "1  Ave A & E 14 St        5779.11  40.724790 -73.984301  40.730311 -73.980472   \n",
       "2  9 Ave & W 39 St        6644.08  40.748776 -73.988742  40.756404 -73.994101   \n",
       "3  Ave A & E 14 St        5779.11  40.725000 -73.984241  40.730311 -73.980472   \n",
       "4  Ave A & E 14 St        5779.11  40.724790 -73.984301  40.730311 -73.980472   \n",
       "\n",
       "  member_casual  \n",
       "0        member  \n",
       "1        member  \n",
       "2        member  \n",
       "3        member  \n",
       "4        member  "
      ]
     },
     "execution_count": 35,
     "metadata": {},
     "output_type": "execute_result"
    }
   ],
   "source": [
    "df.head()"
   ]
  },
  {
   "cell_type": "code",
   "execution_count": 33,
   "id": "27b1b294-72ac-4935-82fa-1b73381573db",
   "metadata": {},
   "outputs": [
    {
     "data": {
      "text/html": [
       "<div>\n",
       "<style scoped>\n",
       "    .dataframe tbody tr th:only-of-type {\n",
       "        vertical-align: middle;\n",
       "    }\n",
       "\n",
       "    .dataframe tbody tr th {\n",
       "        vertical-align: top;\n",
       "    }\n",
       "\n",
       "    .dataframe thead th {\n",
       "        text-align: right;\n",
       "    }\n",
       "</style>\n",
       "<table border=\"1\" class=\"dataframe\">\n",
       "  <thead>\n",
       "    <tr style=\"text-align: right;\">\n",
       "      <th></th>\n",
       "      <th>date</th>\n",
       "      <th>datatype</th>\n",
       "      <th>station</th>\n",
       "      <th>attributes</th>\n",
       "      <th>value</th>\n",
       "    </tr>\n",
       "  </thead>\n",
       "  <tbody>\n",
       "    <tr>\n",
       "      <th>0</th>\n",
       "      <td>2022-01-01T00:00:00</td>\n",
       "      <td>ADPT</td>\n",
       "      <td>GHCND:USW00014732</td>\n",
       "      <td>,,W,</td>\n",
       "      <td>100.0</td>\n",
       "    </tr>\n",
       "    <tr>\n",
       "      <th>1</th>\n",
       "      <td>2022-01-01T00:00:00</td>\n",
       "      <td>ASLP</td>\n",
       "      <td>GHCND:USW00014732</td>\n",
       "      <td>,,W,</td>\n",
       "      <td>10078.0</td>\n",
       "    </tr>\n",
       "    <tr>\n",
       "      <th>2</th>\n",
       "      <td>2022-01-01T00:00:00</td>\n",
       "      <td>ASTP</td>\n",
       "      <td>GHCND:USW00014732</td>\n",
       "      <td>,,W,</td>\n",
       "      <td>10078.0</td>\n",
       "    </tr>\n",
       "    <tr>\n",
       "      <th>3</th>\n",
       "      <td>2022-01-01T00:00:00</td>\n",
       "      <td>AWBT</td>\n",
       "      <td>GHCND:USW00014732</td>\n",
       "      <td>,,W,</td>\n",
       "      <td>106.0</td>\n",
       "    </tr>\n",
       "    <tr>\n",
       "      <th>4</th>\n",
       "      <td>2022-01-01T00:00:00</td>\n",
       "      <td>AWND</td>\n",
       "      <td>GHCND:USW00014732</td>\n",
       "      <td>,,W,</td>\n",
       "      <td>2.8</td>\n",
       "    </tr>\n",
       "  </tbody>\n",
       "</table>\n",
       "</div>"
      ],
      "text/plain": [
       "                  date datatype            station attributes    value\n",
       "0  2022-01-01T00:00:00     ADPT  GHCND:USW00014732       ,,W,    100.0\n",
       "1  2022-01-01T00:00:00     ASLP  GHCND:USW00014732       ,,W,  10078.0\n",
       "2  2022-01-01T00:00:00     ASTP  GHCND:USW00014732       ,,W,  10078.0\n",
       "3  2022-01-01T00:00:00     AWBT  GHCND:USW00014732       ,,W,    106.0\n",
       "4  2022-01-01T00:00:00     AWND  GHCND:USW00014732       ,,W,      2.8"
      ]
     },
     "execution_count": 33,
     "metadata": {},
     "output_type": "execute_result"
    }
   ],
   "source": [
    "weather_df.head()"
   ]
  },
  {
   "cell_type": "code",
   "execution_count": 38,
   "id": "c6cb5938-0acd-43b9-bafb-3bde0d702de4",
   "metadata": {},
   "outputs": [],
   "source": [
    "#Merge the data frames and export\n",
    "df['date'] = pd.to_datetime(df['started_at']).dt.date\n",
    "weather_df['date'] = pd.to_datetime(weather_df['date']).dt.date\n",
    "\n",
    "merged_df = pd.merge(df, weather_df, on='date', how='left')\n",
    "merged_df.to_csv(\"data/citibike_weather_2022.csv\", index=False)"
   ]
  },
  {
   "cell_type": "code",
   "execution_count": null,
   "id": "d9aed63f-147f-4bb2-bacf-2e4793da2c8a",
   "metadata": {},
   "outputs": [],
   "source": []
  }
 ],
 "metadata": {
  "kernelspec": {
   "display_name": "Python [conda env:New_York_Citibike] *",
   "language": "python",
   "name": "conda-env-New_York_Citibike-py"
  },
  "language_info": {
   "codemirror_mode": {
    "name": "ipython",
    "version": 3
   },
   "file_extension": ".py",
   "mimetype": "text/x-python",
   "name": "python",
   "nbconvert_exporter": "python",
   "pygments_lexer": "ipython3",
   "version": "3.10.18"
  }
 },
 "nbformat": 4,
 "nbformat_minor": 5
}
