{
 "cells": [
  {
   "cell_type": "code",
   "execution_count": 1,
   "id": "ac0ec1e6-ac42-4463-babc-6bb65616d433",
   "metadata": {},
   "outputs": [],
   "source": [
    "import pandas as pd\n",
    "import numpy as np\n",
    "import os\n",
    "import requests\n",
    "import json\n",
    "from datetime import datetime"
   ]
  },
  {
   "cell_type": "code",
   "execution_count": 2,
   "id": "2b6bf263-d8ce-4b32-810e-4f64d47e3420",
   "metadata": {},
   "outputs": [],
   "source": [
    "folderpath = r\"Data\"\n",
    "filepaths = [os.path.join(folderpath, name) for name in os.listdir(folderpath)]"
   ]
  },
  {
   "cell_type": "code",
   "execution_count": 3,
   "id": "05dbeaf9-154c-41fb-abee-f52c5309de79",
   "metadata": {},
   "outputs": [
    {
     "name": "stderr",
     "output_type": "stream",
     "text": [
      "C:\\Users\\anika\\AppData\\Local\\Temp\\ipykernel_27132\\78346219.py:2: DtypeWarning: Columns (5,7) have mixed types. Specify dtype option on import or set low_memory=False.\n",
      "  df = pd.concat((pd.read_csv(f) for f in filepaths), ignore_index=True)\n",
      "C:\\Users\\anika\\AppData\\Local\\Temp\\ipykernel_27132\\78346219.py:2: DtypeWarning: Columns (5,7) have mixed types. Specify dtype option on import or set low_memory=False.\n",
      "  df = pd.concat((pd.read_csv(f) for f in filepaths), ignore_index=True)\n",
      "C:\\Users\\anika\\AppData\\Local\\Temp\\ipykernel_27132\\78346219.py:2: DtypeWarning: Columns (7) have mixed types. Specify dtype option on import or set low_memory=False.\n",
      "  df = pd.concat((pd.read_csv(f) for f in filepaths), ignore_index=True)\n",
      "C:\\Users\\anika\\AppData\\Local\\Temp\\ipykernel_27132\\78346219.py:2: DtypeWarning: Columns (5,7) have mixed types. Specify dtype option on import or set low_memory=False.\n",
      "  df = pd.concat((pd.read_csv(f) for f in filepaths), ignore_index=True)\n",
      "C:\\Users\\anika\\AppData\\Local\\Temp\\ipykernel_27132\\78346219.py:2: DtypeWarning: Columns (5,7) have mixed types. Specify dtype option on import or set low_memory=False.\n",
      "  df = pd.concat((pd.read_csv(f) for f in filepaths), ignore_index=True)\n",
      "C:\\Users\\anika\\AppData\\Local\\Temp\\ipykernel_27132\\78346219.py:2: DtypeWarning: Columns (5,7) have mixed types. Specify dtype option on import or set low_memory=False.\n",
      "  df = pd.concat((pd.read_csv(f) for f in filepaths), ignore_index=True)\n",
      "C:\\Users\\anika\\AppData\\Local\\Temp\\ipykernel_27132\\78346219.py:2: DtypeWarning: Columns (5,7) have mixed types. Specify dtype option on import or set low_memory=False.\n",
      "  df = pd.concat((pd.read_csv(f) for f in filepaths), ignore_index=True)\n",
      "C:\\Users\\anika\\AppData\\Local\\Temp\\ipykernel_27132\\78346219.py:2: DtypeWarning: Columns (5,7) have mixed types. Specify dtype option on import or set low_memory=False.\n",
      "  df = pd.concat((pd.read_csv(f) for f in filepaths), ignore_index=True)\n",
      "C:\\Users\\anika\\AppData\\Local\\Temp\\ipykernel_27132\\78346219.py:2: DtypeWarning: Columns (5,7) have mixed types. Specify dtype option on import or set low_memory=False.\n",
      "  df = pd.concat((pd.read_csv(f) for f in filepaths), ignore_index=True)\n",
      "C:\\Users\\anika\\AppData\\Local\\Temp\\ipykernel_27132\\78346219.py:2: DtypeWarning: Columns (5,7) have mixed types. Specify dtype option on import or set low_memory=False.\n",
      "  df = pd.concat((pd.read_csv(f) for f in filepaths), ignore_index=True)\n",
      "C:\\Users\\anika\\AppData\\Local\\Temp\\ipykernel_27132\\78346219.py:2: DtypeWarning: Columns (5,7) have mixed types. Specify dtype option on import or set low_memory=False.\n",
      "  df = pd.concat((pd.read_csv(f) for f in filepaths), ignore_index=True)\n",
      "C:\\Users\\anika\\AppData\\Local\\Temp\\ipykernel_27132\\78346219.py:2: DtypeWarning: Columns (5,7) have mixed types. Specify dtype option on import or set low_memory=False.\n",
      "  df = pd.concat((pd.read_csv(f) for f in filepaths), ignore_index=True)\n",
      "C:\\Users\\anika\\AppData\\Local\\Temp\\ipykernel_27132\\78346219.py:2: DtypeWarning: Columns (5,7) have mixed types. Specify dtype option on import or set low_memory=False.\n",
      "  df = pd.concat((pd.read_csv(f) for f in filepaths), ignore_index=True)\n",
      "C:\\Users\\anika\\AppData\\Local\\Temp\\ipykernel_27132\\78346219.py:2: DtypeWarning: Columns (5,7) have mixed types. Specify dtype option on import or set low_memory=False.\n",
      "  df = pd.concat((pd.read_csv(f) for f in filepaths), ignore_index=True)\n",
      "C:\\Users\\anika\\AppData\\Local\\Temp\\ipykernel_27132\\78346219.py:2: DtypeWarning: Columns (5,7) have mixed types. Specify dtype option on import or set low_memory=False.\n",
      "  df = pd.concat((pd.read_csv(f) for f in filepaths), ignore_index=True)\n",
      "C:\\Users\\anika\\AppData\\Local\\Temp\\ipykernel_27132\\78346219.py:2: DtypeWarning: Columns (5,7) have mixed types. Specify dtype option on import or set low_memory=False.\n",
      "  df = pd.concat((pd.read_csv(f) for f in filepaths), ignore_index=True)\n",
      "C:\\Users\\anika\\AppData\\Local\\Temp\\ipykernel_27132\\78346219.py:2: DtypeWarning: Columns (5,7) have mixed types. Specify dtype option on import or set low_memory=False.\n",
      "  df = pd.concat((pd.read_csv(f) for f in filepaths), ignore_index=True)\n",
      "C:\\Users\\anika\\AppData\\Local\\Temp\\ipykernel_27132\\78346219.py:2: DtypeWarning: Columns (5,7) have mixed types. Specify dtype option on import or set low_memory=False.\n",
      "  df = pd.concat((pd.read_csv(f) for f in filepaths), ignore_index=True)\n",
      "C:\\Users\\anika\\AppData\\Local\\Temp\\ipykernel_27132\\78346219.py:2: DtypeWarning: Columns (5,7) have mixed types. Specify dtype option on import or set low_memory=False.\n",
      "  df = pd.concat((pd.read_csv(f) for f in filepaths), ignore_index=True)\n",
      "C:\\Users\\anika\\AppData\\Local\\Temp\\ipykernel_27132\\78346219.py:2: DtypeWarning: Columns (5,7) have mixed types. Specify dtype option on import or set low_memory=False.\n",
      "  df = pd.concat((pd.read_csv(f) for f in filepaths), ignore_index=True)\n",
      "C:\\Users\\anika\\AppData\\Local\\Temp\\ipykernel_27132\\78346219.py:2: DtypeWarning: Columns (5,7) have mixed types. Specify dtype option on import or set low_memory=False.\n",
      "  df = pd.concat((pd.read_csv(f) for f in filepaths), ignore_index=True)\n",
      "C:\\Users\\anika\\AppData\\Local\\Temp\\ipykernel_27132\\78346219.py:2: DtypeWarning: Columns (5,7) have mixed types. Specify dtype option on import or set low_memory=False.\n",
      "  df = pd.concat((pd.read_csv(f) for f in filepaths), ignore_index=True)\n",
      "C:\\Users\\anika\\AppData\\Local\\Temp\\ipykernel_27132\\78346219.py:2: DtypeWarning: Columns (5,7) have mixed types. Specify dtype option on import or set low_memory=False.\n",
      "  df = pd.concat((pd.read_csv(f) for f in filepaths), ignore_index=True)\n",
      "C:\\Users\\anika\\AppData\\Local\\Temp\\ipykernel_27132\\78346219.py:2: DtypeWarning: Columns (5,7) have mixed types. Specify dtype option on import or set low_memory=False.\n",
      "  df = pd.concat((pd.read_csv(f) for f in filepaths), ignore_index=True)\n",
      "C:\\Users\\anika\\AppData\\Local\\Temp\\ipykernel_27132\\78346219.py:2: DtypeWarning: Columns (5,7) have mixed types. Specify dtype option on import or set low_memory=False.\n",
      "  df = pd.concat((pd.read_csv(f) for f in filepaths), ignore_index=True)\n",
      "C:\\Users\\anika\\AppData\\Local\\Temp\\ipykernel_27132\\78346219.py:2: DtypeWarning: Columns (5,7) have mixed types. Specify dtype option on import or set low_memory=False.\n",
      "  df = pd.concat((pd.read_csv(f) for f in filepaths), ignore_index=True)\n",
      "C:\\Users\\anika\\AppData\\Local\\Temp\\ipykernel_27132\\78346219.py:2: DtypeWarning: Columns (5,7) have mixed types. Specify dtype option on import or set low_memory=False.\n",
      "  df = pd.concat((pd.read_csv(f) for f in filepaths), ignore_index=True)\n",
      "C:\\Users\\anika\\AppData\\Local\\Temp\\ipykernel_27132\\78346219.py:2: DtypeWarning: Columns (5,7) have mixed types. Specify dtype option on import or set low_memory=False.\n",
      "  df = pd.concat((pd.read_csv(f) for f in filepaths), ignore_index=True)\n",
      "C:\\Users\\anika\\AppData\\Local\\Temp\\ipykernel_27132\\78346219.py:2: DtypeWarning: Columns (5,7) have mixed types. Specify dtype option on import or set low_memory=False.\n",
      "  df = pd.concat((pd.read_csv(f) for f in filepaths), ignore_index=True)\n",
      "C:\\Users\\anika\\AppData\\Local\\Temp\\ipykernel_27132\\78346219.py:2: DtypeWarning: Columns (5,7) have mixed types. Specify dtype option on import or set low_memory=False.\n",
      "  df = pd.concat((pd.read_csv(f) for f in filepaths), ignore_index=True)\n",
      "C:\\Users\\anika\\AppData\\Local\\Temp\\ipykernel_27132\\78346219.py:2: DtypeWarning: Columns (5,7) have mixed types. Specify dtype option on import or set low_memory=False.\n",
      "  df = pd.concat((pd.read_csv(f) for f in filepaths), ignore_index=True)\n",
      "C:\\Users\\anika\\AppData\\Local\\Temp\\ipykernel_27132\\78346219.py:2: DtypeWarning: Columns (5,7) have mixed types. Specify dtype option on import or set low_memory=False.\n",
      "  df = pd.concat((pd.read_csv(f) for f in filepaths), ignore_index=True)\n",
      "C:\\Users\\anika\\AppData\\Local\\Temp\\ipykernel_27132\\78346219.py:2: DtypeWarning: Columns (7) have mixed types. Specify dtype option on import or set low_memory=False.\n",
      "  df = pd.concat((pd.read_csv(f) for f in filepaths), ignore_index=True)\n",
      "C:\\Users\\anika\\AppData\\Local\\Temp\\ipykernel_27132\\78346219.py:2: DtypeWarning: Columns (5,7) have mixed types. Specify dtype option on import or set low_memory=False.\n",
      "  df = pd.concat((pd.read_csv(f) for f in filepaths), ignore_index=True)\n",
      "C:\\Users\\anika\\AppData\\Local\\Temp\\ipykernel_27132\\78346219.py:2: DtypeWarning: Columns (5,7) have mixed types. Specify dtype option on import or set low_memory=False.\n",
      "  df = pd.concat((pd.read_csv(f) for f in filepaths), ignore_index=True)\n"
     ]
    }
   ],
   "source": [
    "#concatenate all CSV files into one DataFrame\n",
    "df = pd.concat((pd.read_csv(f) for f in filepaths), ignore_index=True)"
   ]
  },
  {
   "cell_type": "code",
   "execution_count": 6,
   "id": "40ff8a8f-135b-4144-be97-342d8f3b9cae",
   "metadata": {},
   "outputs": [],
   "source": [
    "Token = \"NrGUVnRacbLeKedemDqDQuNxVtmcODPq\"\n",
    "url = (\"https://www.ncdc.noaa.gov/cdo-web/api/v2/data?\"\n",
    "    \"datasetid=GHCND&datatypeid=TAVG&limit=1000&\"\n",
    "    \"stationid=GHCND:USW00014732&startdate=2022-01-01&enddate=2022-12-31\")\n",
    "r = requests.get(url, headers={'token': Token})\n",
    "d = json.loads(r.text)\n",
    "avg_weather = [item for item in d['results'] if item['datatype'] == 'TAVG']\n",
    "dates_weather = [item['date'] for item in avg_weather]\n",
    "weather = [item['value'] for item in avg_weather]"
   ]
  },
  {
   "cell_type": "code",
   "execution_count": 8,
   "id": "ce12e19d-0967-46fb-883e-b02629bc6d5b",
   "metadata": {},
   "outputs": [
    {
     "data": {
      "text/html": [
       "<div>\n",
       "<style scoped>\n",
       "    .dataframe tbody tr th:only-of-type {\n",
       "        vertical-align: middle;\n",
       "    }\n",
       "\n",
       "    .dataframe tbody tr th {\n",
       "        vertical-align: top;\n",
       "    }\n",
       "\n",
       "    .dataframe thead th {\n",
       "        text-align: right;\n",
       "    }\n",
       "</style>\n",
       "<table border=\"1\" class=\"dataframe\">\n",
       "  <thead>\n",
       "    <tr style=\"text-align: right;\">\n",
       "      <th></th>\n",
       "      <th>date</th>\n",
       "      <th>avgWeather</th>\n",
       "    </tr>\n",
       "  </thead>\n",
       "  <tbody>\n",
       "    <tr>\n",
       "      <th>0</th>\n",
       "      <td>2022-01-01</td>\n",
       "      <td>11.6</td>\n",
       "    </tr>\n",
       "    <tr>\n",
       "      <th>1</th>\n",
       "      <td>2022-01-02</td>\n",
       "      <td>11.4</td>\n",
       "    </tr>\n",
       "    <tr>\n",
       "      <th>2</th>\n",
       "      <td>2022-01-03</td>\n",
       "      <td>1.4</td>\n",
       "    </tr>\n",
       "    <tr>\n",
       "      <th>3</th>\n",
       "      <td>2022-01-04</td>\n",
       "      <td>-2.7</td>\n",
       "    </tr>\n",
       "    <tr>\n",
       "      <th>4</th>\n",
       "      <td>2022-01-05</td>\n",
       "      <td>3.2</td>\n",
       "    </tr>\n",
       "  </tbody>\n",
       "</table>\n",
       "</div>"
      ],
      "text/plain": [
       "        date  avgWeather\n",
       "0 2022-01-01        11.6\n",
       "1 2022-01-02        11.4\n",
       "2 2022-01-03         1.4\n",
       "3 2022-01-04        -2.7\n",
       "4 2022-01-05         3.2"
      ]
     },
     "execution_count": 8,
     "metadata": {},
     "output_type": "execute_result"
    }
   ],
   "source": [
    "df_weather = pd.DataFrame()\n",
    "df_weather['date'] = [datetime.strptime(d, \"%Y-%m-%dT%H:%M:%S\") for d in dates_weather]\n",
    "df_weather['avgWeather'] = [float(v) / 10.0 for v in temps]\n",
    "\n",
    "df_weather.head()"
   ]
  },
  {
   "cell_type": "code",
   "execution_count": 13,
   "id": "6d275793-92dd-42aa-893d-2e6dfa3ca653",
   "metadata": {},
   "outputs": [],
   "source": [
    "df['started_at'] = pd.to_datetime(df['started_at'])\n",
    "df['date'] = df['started_at'].dt.date\n",
    "\n",
    "df_weather['date'] = pd.to_datetime(df_weather['date']).dt.date"
   ]
  },
  {
   "cell_type": "code",
   "execution_count": 14,
   "id": "ea6f3976-9ed5-455c-85a0-c12c9c11391a",
   "metadata": {},
   "outputs": [],
   "source": [
    "df_merged = df.merge(df_weather, how='left', on='date', indicator=True)"
   ]
  },
  {
   "cell_type": "code",
   "execution_count": 17,
   "id": "24e4d420-089d-458c-8343-327e03840432",
   "metadata": {},
   "outputs": [],
   "source": [
    "#Save to CSV\n",
    "df_merged.to_csv(\"CitiBike_2022_with_weather.csv\", index=False)"
   ]
  },
  {
   "cell_type": "code",
   "execution_count": null,
   "id": "e5c6bdb5-4624-451e-a60d-3edb2f6bedc1",
   "metadata": {},
   "outputs": [],
   "source": []
  }
 ],
 "metadata": {
  "kernelspec": {
   "display_name": "Python [conda env:New_York_Citibike] *",
   "language": "python",
   "name": "conda-env-New_York_Citibike-py"
  },
  "language_info": {
   "codemirror_mode": {
    "name": "ipython",
    "version": 3
   },
   "file_extension": ".py",
   "mimetype": "text/x-python",
   "name": "python",
   "nbconvert_exporter": "python",
   "pygments_lexer": "ipython3",
   "version": "3.10.18"
  }
 },
 "nbformat": 4,
 "nbformat_minor": 5
}
